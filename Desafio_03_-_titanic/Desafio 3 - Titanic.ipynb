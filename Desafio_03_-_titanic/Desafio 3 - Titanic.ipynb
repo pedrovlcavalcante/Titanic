{
 "cells": [
  {
   "cell_type": "markdown",
   "metadata": {
    "id": "2ptypwoGOA6z"
   },
   "source": [
    "<img src=\"https://miro.medium.com/max/1898/1*w4TIZ1VIu7J2FltbyZ6bYA.png\" align='left' />"
   ]
  },
  {
   "cell_type": "markdown",
   "metadata": {
    "id": "pMBgXEjbOA61"
   },
   "source": [
    "# Desafio 3 - [Competição Titanic](https://www.kaggle.com/c/titanic/overview)\n",
    "\n",
    "ENTREGA ATÉ 13/08 NO DRIVE https://drive.google.com/drive/folders/12x-QBlp7yASKF2TkdyaQ2TXXwtEicwYu?usp=sharing\n",
    "\n",
    "Nesse desafio vamos trabalhar com uma competição do Kaggle pela primeira vez. O objetivo da competição é criar um modelo que consiga prever quais passageiros morreram e quais sobreviveram no acidente do Titanic.\n",
    "\n",
    "A comunidade do Kaggle disponibiliza os notebooks com possíveis soluções para a competição. É uma fonte super rica de aprendizado entender as ideias que outras pessoas tiveram e ver as aplicações dessas ideias. Não hesitem em consultar! (Só não vale copiar a solução das pessoas na íntegra hehe)\n",
    "\n",
    "Abaixo deixamos um passo-a-passo dos macro blocos para nortear vocês! Esse Desafio é uma ótima oportunidade para juntarmos os bloquinhos de Lego e vermos as aplicações de boa parte das técnicas e conceitos vistos até agora! Bora lá!"
   ]
  },
  {
   "cell_type": "markdown",
   "metadata": {
    "id": "w9aC3hqLOA62"
   },
   "source": [
    "# 1. Importar libs e carregar os DataFrames\n",
    "\n",
    "Nas competições do Kaggle é comum recebermos 2 DataFrames. Um de treino e um de teste. Neste caso o DataFrame de **teste** é utilizado apenas para gerar o Score do modelo na competição. Nós realizamos todas as etapas no DataFrame de treino e utilizamos o teste apenas para submeter a solução."
   ]
  },
  {
   "cell_type": "code",
   "execution_count": 80,
   "metadata": {
    "id": "mjze66hFOA62"
   },
   "outputs": [],
   "source": [
    "# Importando libs\n",
    "import pandas as pd\n",
    "import numpy as np\n",
    "import matplotlib.pyplot as plt\n",
    "import seaborn as sns\n",
    "from sklearn.model_selection import train_test_split, KFold\n",
    "from sklearn.preprocessing import MinMaxScaler\n",
    "from sklearn.linear_model import LogisticRegression\n",
    "from sklearn.tree import DecisionTreeClassifier as dtree\n",
    "from sklearn.neighbors import KNeighborsClassifier as KNN\n",
    "from sklearn.metrics import accuracy_score, precision_score, recall_score, fbeta_score, roc_auc_score, roc_curve, confusion_matrix, classification_report\n",
    "from imblearn.under_sampling import NearMiss\n",
    "import warnings\n",
    "warnings.filterwarnings('ignore')"
   ]
  },
  {
   "cell_type": "markdown",
   "metadata": {
    "id": "TV0vFTnFO4iI"
   },
   "source": [
    "1) Carregar dataframes de treino e teste \n",
    "\n",
    "2) Split o dataframe de treino\n",
    "\n",
    "3) Limpar os dados - verificar dados duplicados, verificar se todas as features serão interessantes (variancia)\n",
    "\n",
    "4) EDA e tratar nulos\n",
    "\n",
    "5) Feature engineering\n",
    "\n",
    "6) Preparar dados para o modelo de acordo com a necessidade de cada algoritmo\n",
    "\n",
    "7) Modelagem: Usar como modelo 1 regressao logística, modelo 2 a árvore de decisão e modelo 3 KNN\n",
    "\n",
    "8) Avaliar cada modelo e escolha do threshold\n",
    "\n",
    "9) Escolher o melhor modelo dos passos anteriores \n",
    "\n",
    "10) Para o melhor modelo escolhido, repetir a modelagem usando k-fold\n",
    "\n",
    "11) Balanceamento de dados"
   ]
  },
  {
   "cell_type": "markdown",
   "metadata": {},
   "source": [
    "<img src=dict.jpg align='left' />"
   ]
  },
  {
   "cell_type": "markdown",
   "metadata": {},
   "source": [
    "## Legenda das variáveis"
   ]
  },
  {
   "cell_type": "markdown",
   "metadata": {
    "id": "2Hj-cIm9PqMa"
   },
   "source": [
    "# 1. Importar dados de treino e teste\n",
    "\n",
    "Conforme vimos nas aulas, antes de começar a trabalhar com os dados, nós separamos uma parte do DataFrame para posterior avaliação do modelo. É importante que o modelo não tenha contato com nenhuma informação deste DataFrame separado para garantir que quando avaliada sobre este DataFrame, a performance do modelo reflita o comportamento do mesmo para dados nunca vistos."
   ]
  },
  {
   "cell_type": "code",
   "execution_count": 81,
   "metadata": {},
   "outputs": [],
   "source": [
    "train = pd.read_csv('train.csv')\n",
    "test = pd.read_csv('test.csv')"
   ]
  },
  {
   "cell_type": "code",
   "execution_count": 82,
   "metadata": {},
   "outputs": [
    {
     "data": {
      "text/html": [
       "<div>\n",
       "<style scoped>\n",
       "    .dataframe tbody tr th:only-of-type {\n",
       "        vertical-align: middle;\n",
       "    }\n",
       "\n",
       "    .dataframe tbody tr th {\n",
       "        vertical-align: top;\n",
       "    }\n",
       "\n",
       "    .dataframe thead th {\n",
       "        text-align: right;\n",
       "    }\n",
       "</style>\n",
       "<table border=\"1\" class=\"dataframe\">\n",
       "  <thead>\n",
       "    <tr style=\"text-align: right;\">\n",
       "      <th></th>\n",
       "      <th>PassengerId</th>\n",
       "      <th>Survived</th>\n",
       "      <th>Pclass</th>\n",
       "      <th>Name</th>\n",
       "      <th>Sex</th>\n",
       "      <th>Age</th>\n",
       "      <th>SibSp</th>\n",
       "      <th>Parch</th>\n",
       "      <th>Ticket</th>\n",
       "      <th>Fare</th>\n",
       "      <th>Cabin</th>\n",
       "      <th>Embarked</th>\n",
       "    </tr>\n",
       "  </thead>\n",
       "  <tbody>\n",
       "    <tr>\n",
       "      <th>0</th>\n",
       "      <td>1</td>\n",
       "      <td>0</td>\n",
       "      <td>3</td>\n",
       "      <td>Braund, Mr. Owen Harris</td>\n",
       "      <td>male</td>\n",
       "      <td>22.0</td>\n",
       "      <td>1</td>\n",
       "      <td>0</td>\n",
       "      <td>A/5 21171</td>\n",
       "      <td>7.2500</td>\n",
       "      <td>NaN</td>\n",
       "      <td>S</td>\n",
       "    </tr>\n",
       "    <tr>\n",
       "      <th>1</th>\n",
       "      <td>2</td>\n",
       "      <td>1</td>\n",
       "      <td>1</td>\n",
       "      <td>Cumings, Mrs. John Bradley (Florence Briggs Th...</td>\n",
       "      <td>female</td>\n",
       "      <td>38.0</td>\n",
       "      <td>1</td>\n",
       "      <td>0</td>\n",
       "      <td>PC 17599</td>\n",
       "      <td>71.2833</td>\n",
       "      <td>C85</td>\n",
       "      <td>C</td>\n",
       "    </tr>\n",
       "    <tr>\n",
       "      <th>2</th>\n",
       "      <td>3</td>\n",
       "      <td>1</td>\n",
       "      <td>3</td>\n",
       "      <td>Heikkinen, Miss. Laina</td>\n",
       "      <td>female</td>\n",
       "      <td>26.0</td>\n",
       "      <td>0</td>\n",
       "      <td>0</td>\n",
       "      <td>STON/O2. 3101282</td>\n",
       "      <td>7.9250</td>\n",
       "      <td>NaN</td>\n",
       "      <td>S</td>\n",
       "    </tr>\n",
       "    <tr>\n",
       "      <th>3</th>\n",
       "      <td>4</td>\n",
       "      <td>1</td>\n",
       "      <td>1</td>\n",
       "      <td>Futrelle, Mrs. Jacques Heath (Lily May Peel)</td>\n",
       "      <td>female</td>\n",
       "      <td>35.0</td>\n",
       "      <td>1</td>\n",
       "      <td>0</td>\n",
       "      <td>113803</td>\n",
       "      <td>53.1000</td>\n",
       "      <td>C123</td>\n",
       "      <td>S</td>\n",
       "    </tr>\n",
       "    <tr>\n",
       "      <th>4</th>\n",
       "      <td>5</td>\n",
       "      <td>0</td>\n",
       "      <td>3</td>\n",
       "      <td>Allen, Mr. William Henry</td>\n",
       "      <td>male</td>\n",
       "      <td>35.0</td>\n",
       "      <td>0</td>\n",
       "      <td>0</td>\n",
       "      <td>373450</td>\n",
       "      <td>8.0500</td>\n",
       "      <td>NaN</td>\n",
       "      <td>S</td>\n",
       "    </tr>\n",
       "  </tbody>\n",
       "</table>\n",
       "</div>"
      ],
      "text/plain": [
       "   PassengerId  Survived  Pclass  \\\n",
       "0            1         0       3   \n",
       "1            2         1       1   \n",
       "2            3         1       3   \n",
       "3            4         1       1   \n",
       "4            5         0       3   \n",
       "\n",
       "                                                Name     Sex   Age  SibSp  \\\n",
       "0                            Braund, Mr. Owen Harris    male  22.0      1   \n",
       "1  Cumings, Mrs. John Bradley (Florence Briggs Th...  female  38.0      1   \n",
       "2                             Heikkinen, Miss. Laina  female  26.0      0   \n",
       "3       Futrelle, Mrs. Jacques Heath (Lily May Peel)  female  35.0      1   \n",
       "4                           Allen, Mr. William Henry    male  35.0      0   \n",
       "\n",
       "   Parch            Ticket     Fare Cabin Embarked  \n",
       "0      0         A/5 21171   7.2500   NaN        S  \n",
       "1      0          PC 17599  71.2833   C85        C  \n",
       "2      0  STON/O2. 3101282   7.9250   NaN        S  \n",
       "3      0            113803  53.1000  C123        S  \n",
       "4      0            373450   8.0500   NaN        S  "
      ]
     },
     "execution_count": 82,
     "metadata": {},
     "output_type": "execute_result"
    }
   ],
   "source": [
    "train.head()"
   ]
  },
  {
   "cell_type": "code",
   "execution_count": 83,
   "metadata": {},
   "outputs": [
    {
     "data": {
      "text/html": [
       "<div>\n",
       "<style scoped>\n",
       "    .dataframe tbody tr th:only-of-type {\n",
       "        vertical-align: middle;\n",
       "    }\n",
       "\n",
       "    .dataframe tbody tr th {\n",
       "        vertical-align: top;\n",
       "    }\n",
       "\n",
       "    .dataframe thead th {\n",
       "        text-align: right;\n",
       "    }\n",
       "</style>\n",
       "<table border=\"1\" class=\"dataframe\">\n",
       "  <thead>\n",
       "    <tr style=\"text-align: right;\">\n",
       "      <th></th>\n",
       "      <th>PassengerId</th>\n",
       "      <th>Pclass</th>\n",
       "      <th>Name</th>\n",
       "      <th>Sex</th>\n",
       "      <th>Age</th>\n",
       "      <th>SibSp</th>\n",
       "      <th>Parch</th>\n",
       "      <th>Ticket</th>\n",
       "      <th>Fare</th>\n",
       "      <th>Cabin</th>\n",
       "      <th>Embarked</th>\n",
       "    </tr>\n",
       "  </thead>\n",
       "  <tbody>\n",
       "    <tr>\n",
       "      <th>0</th>\n",
       "      <td>892</td>\n",
       "      <td>3</td>\n",
       "      <td>Kelly, Mr. James</td>\n",
       "      <td>male</td>\n",
       "      <td>34.5</td>\n",
       "      <td>0</td>\n",
       "      <td>0</td>\n",
       "      <td>330911</td>\n",
       "      <td>7.8292</td>\n",
       "      <td>NaN</td>\n",
       "      <td>Q</td>\n",
       "    </tr>\n",
       "    <tr>\n",
       "      <th>1</th>\n",
       "      <td>893</td>\n",
       "      <td>3</td>\n",
       "      <td>Wilkes, Mrs. James (Ellen Needs)</td>\n",
       "      <td>female</td>\n",
       "      <td>47.0</td>\n",
       "      <td>1</td>\n",
       "      <td>0</td>\n",
       "      <td>363272</td>\n",
       "      <td>7.0000</td>\n",
       "      <td>NaN</td>\n",
       "      <td>S</td>\n",
       "    </tr>\n",
       "    <tr>\n",
       "      <th>2</th>\n",
       "      <td>894</td>\n",
       "      <td>2</td>\n",
       "      <td>Myles, Mr. Thomas Francis</td>\n",
       "      <td>male</td>\n",
       "      <td>62.0</td>\n",
       "      <td>0</td>\n",
       "      <td>0</td>\n",
       "      <td>240276</td>\n",
       "      <td>9.6875</td>\n",
       "      <td>NaN</td>\n",
       "      <td>Q</td>\n",
       "    </tr>\n",
       "    <tr>\n",
       "      <th>3</th>\n",
       "      <td>895</td>\n",
       "      <td>3</td>\n",
       "      <td>Wirz, Mr. Albert</td>\n",
       "      <td>male</td>\n",
       "      <td>27.0</td>\n",
       "      <td>0</td>\n",
       "      <td>0</td>\n",
       "      <td>315154</td>\n",
       "      <td>8.6625</td>\n",
       "      <td>NaN</td>\n",
       "      <td>S</td>\n",
       "    </tr>\n",
       "    <tr>\n",
       "      <th>4</th>\n",
       "      <td>896</td>\n",
       "      <td>3</td>\n",
       "      <td>Hirvonen, Mrs. Alexander (Helga E Lindqvist)</td>\n",
       "      <td>female</td>\n",
       "      <td>22.0</td>\n",
       "      <td>1</td>\n",
       "      <td>1</td>\n",
       "      <td>3101298</td>\n",
       "      <td>12.2875</td>\n",
       "      <td>NaN</td>\n",
       "      <td>S</td>\n",
       "    </tr>\n",
       "  </tbody>\n",
       "</table>\n",
       "</div>"
      ],
      "text/plain": [
       "   PassengerId  Pclass                                          Name     Sex  \\\n",
       "0          892       3                              Kelly, Mr. James    male   \n",
       "1          893       3              Wilkes, Mrs. James (Ellen Needs)  female   \n",
       "2          894       2                     Myles, Mr. Thomas Francis    male   \n",
       "3          895       3                              Wirz, Mr. Albert    male   \n",
       "4          896       3  Hirvonen, Mrs. Alexander (Helga E Lindqvist)  female   \n",
       "\n",
       "    Age  SibSp  Parch   Ticket     Fare Cabin Embarked  \n",
       "0  34.5      0      0   330911   7.8292   NaN        Q  \n",
       "1  47.0      1      0   363272   7.0000   NaN        S  \n",
       "2  62.0      0      0   240276   9.6875   NaN        Q  \n",
       "3  27.0      0      0   315154   8.6625   NaN        S  \n",
       "4  22.0      1      1  3101298  12.2875   NaN        S  "
      ]
     },
     "execution_count": 83,
     "metadata": {},
     "output_type": "execute_result"
    }
   ],
   "source": [
    "test.head()"
   ]
  },
  {
   "cell_type": "markdown",
   "metadata": {
    "id": "YYvPGxouOA66"
   },
   "source": [
    "# 2. Limpeza de Dados\n",
    "\n",
    "Agora, vamos verificar a consistência dos dados. Hora de identificar e tratar valores nulos, remover linhas e/ou colunas duplicadas, identificar e remover inconsistências nos valores das variáveis (Ex. se houver Fare negativo, não faz sentido), identificar e remover colunas constantes, quase constantes e com baixa variância. (Uma boa dica é voltar lá no Módulo 0 e revisitar a aula de Limpeza de Dados)."
   ]
  },
  {
   "cell_type": "code",
   "execution_count": 84,
   "metadata": {},
   "outputs": [
    {
     "data": {
      "text/plain": [
       "PassengerId      0\n",
       "Survived         0\n",
       "Pclass           0\n",
       "Name             0\n",
       "Sex              0\n",
       "Age            177\n",
       "SibSp            0\n",
       "Parch            0\n",
       "Ticket           0\n",
       "Fare             0\n",
       "Cabin          687\n",
       "Embarked         2\n",
       "dtype: int64"
      ]
     },
     "execution_count": 84,
     "metadata": {},
     "output_type": "execute_result"
    }
   ],
   "source": [
    "train.isna().sum()"
   ]
  },
  {
   "cell_type": "code",
   "execution_count": 85,
   "metadata": {},
   "outputs": [
    {
     "data": {
      "text/plain": [
       "PassengerId      0\n",
       "Pclass           0\n",
       "Name             0\n",
       "Sex              0\n",
       "Age             86\n",
       "SibSp            0\n",
       "Parch            0\n",
       "Ticket           0\n",
       "Fare             1\n",
       "Cabin          327\n",
       "Embarked         0\n",
       "dtype: int64"
      ]
     },
     "execution_count": 85,
     "metadata": {},
     "output_type": "execute_result"
    }
   ],
   "source": [
    "test.isna().sum()"
   ]
  },
  {
   "cell_type": "markdown",
   "metadata": {},
   "source": [
    "## Temos um número considerável de valores nulos na coluna `Age`.  \n",
    "## Vamos tratar esse problema"
   ]
  },
  {
   "cell_type": "code",
   "execution_count": 86,
   "metadata": {},
   "outputs": [
    {
     "name": "stdout",
     "output_type": "stream",
     "text": [
      "Média de idade:  29.69911764705882\n",
      "Média de idade:  14.526497332334044\n"
     ]
    },
    {
     "data": {
      "image/png": "[encoded data removed]",
      "text/plain": [
       "<Figure size 432x288 with 1 Axes>"
      ]
     },
     "metadata": {
      "needs_background": "light"
     },
     "output_type": "display_data"
    }
   ],
   "source": [
    "ages = sns.histplot(data=train['Age'])\n",
    "print('Média de idade: ', train['Age'].mean())\n",
    "print('Média de idade: ', train['Age'].std())"
   ]
  },
  {
   "cell_type": "markdown",
   "metadata": {},
   "source": [
    "A distribuição de idades tem  \n",
    "- média de 29.69 anos\n",
    "- desvio-padrão de 15.52 anos"
   ]
  },
  {
   "cell_type": "code",
   "execution_count": 87,
   "metadata": {},
   "outputs": [
    {
     "data": {
      "text/plain": [
       "1      38.0\n",
       "2      26.0\n",
       "3      35.0\n",
       "8      27.0\n",
       "9      14.0\n",
       "       ... \n",
       "875    15.0\n",
       "879    56.0\n",
       "880    25.0\n",
       "887    19.0\n",
       "889    26.0\n",
       "Name: Age, Length: 342, dtype: float64"
      ]
     },
     "execution_count": 87,
     "metadata": {},
     "output_type": "execute_result"
    }
   ],
   "source": [
    "age_survived = train['Age'].loc[train['Survived'] == 1]\n",
    "age_survived"
   ]
  },
  {
   "cell_type": "code",
   "execution_count": 88,
   "metadata": {},
   "outputs": [
    {
     "data": {
      "text/plain": [
       "<AxesSubplot:xlabel='Age', ylabel='Count'>"
      ]
     },
     "execution_count": 88,
     "metadata": {},
     "output_type": "execute_result"
    },
    {
     "data": {
      "image/png": "[encoded data removed]",
      "text/plain": [
       "<Figure size 432x288 with 1 Axes>"
      ]
     },
     "metadata": {
      "needs_background": "light"
     },
     "output_type": "display_data"
    }
   ],
   "source": [
    "sns.histplot(data=age_survived, kde=True)"
   ]
  },
  {
   "cell_type": "code",
   "execution_count": 89,
   "metadata": {},
   "outputs": [],
   "source": [
    "#Vamos substituir os valores nulos pela média e verificar como a distribuição fica\n",
    "indexes = train['Age'].loc[train['Age'].isna()].index\n",
    "mean = train['Age'].mean()\n",
    "dp = train['Age'].std()\n",
    "fill_mean = {i:mean for i in indexes[0:len(indexes)//3]}\n",
    "fill_dp1 = {i:mean+(dp/2) for i in indexes[len(indexes)//3:(len(indexes)//3)*2]}\n",
    "fill_dp2 = {i:mean-(dp/2) for i in indexes[(len(indexes)//3)*2:]}\n",
    "fill = {**fill_mean, **fill_dp1, **fill_dp2}\n",
    "age_fill = train['Age'].fillna(fill, axis=0)\n",
    "train['Age'] = age_fill"
   ]
  },
  {
   "cell_type": "code",
   "execution_count": 90,
   "metadata": {},
   "outputs": [
    {
     "data": {
      "text/plain": [
       "29.69911764705876"
      ]
     },
     "execution_count": 90,
     "metadata": {},
     "output_type": "execute_result"
    }
   ],
   "source": [
    "age_fill.mean()"
   ]
  },
  {
   "cell_type": "code",
   "execution_count": 91,
   "metadata": {},
   "outputs": [
    {
     "data": {
      "text/plain": [
       "<AxesSubplot:xlabel='Age', ylabel='Count'>"
      ]
     },
     "execution_count": 91,
     "metadata": {},
     "output_type": "execute_result"
    },
    {
     "data": {
      "image/png": "[encoded data removed]",
      "text/plain": [
       "<Figure size 432x288 with 1 Axes>"
      ]
     },
     "metadata": {
      "needs_background": "light"
     },
     "output_type": "display_data"
    }
   ],
   "source": [
    "sns.histplot(data=age_fill, kde=True)"
   ]
  },
  {
   "cell_type": "code",
   "execution_count": 92,
   "metadata": {},
   "outputs": [
    {
     "data": {
      "text/plain": [
       "0"
      ]
     },
     "execution_count": 92,
     "metadata": {},
     "output_type": "execute_result"
    }
   ],
   "source": [
    "train.duplicated().sum()"
   ]
  },
  {
   "cell_type": "code",
   "execution_count": 93,
   "metadata": {},
   "outputs": [
    {
     "data": {
      "text/plain": [
       "PassengerId      0\n",
       "Survived         0\n",
       "Pclass           0\n",
       "Name             0\n",
       "Sex              0\n",
       "Age              0\n",
       "SibSp            0\n",
       "Parch            0\n",
       "Ticket           0\n",
       "Fare             0\n",
       "Cabin          687\n",
       "Embarked         2\n",
       "dtype: int64"
      ]
     },
     "execution_count": 93,
     "metadata": {},
     "output_type": "execute_result"
    }
   ],
   "source": [
    "train.isna().sum()"
   ]
  },
  {
   "cell_type": "markdown",
   "metadata": {},
   "source": [
    "## `Embarked` possui 2 valores nulos, vamos substituílos pela maioria, ou seja `S`"
   ]
  },
  {
   "cell_type": "code",
   "execution_count": 94,
   "metadata": {},
   "outputs": [],
   "source": [
    "train['Embarked'].fillna('S', inplace=True)"
   ]
  },
  {
   "cell_type": "markdown",
   "metadata": {
    "id": "Lq8m-XoVOA7A"
   },
   "source": [
    "# 3. Análise Exploratória de Dados (EDA) \n",
    "\n",
    "Hora de conhecer os dados! Entender qual é a variável target, o que cada uma das colunas representa, quais as variáveis qualitativas, quais as variáveis quantitativas, observar as distribuições das variáveis e observar relações das variáveis com o target e entre si. Super válido procurar mais informações sobre o Titanic também (maior entendimento do negócio). Como funcionava a venda de passagens? Como as cabines eram distribuídas no navio?\n",
    "\n",
    "Qual é o tipo de problema que vamos tentar resolver? É um problema de aprendizado supervisionado ou não supervisionado? Regressão ou Classificação?"
   ]
  },
  {
   "cell_type": "code",
   "execution_count": 95,
   "metadata": {},
   "outputs": [
    {
     "data": {
      "text/plain": [
       "(891, 12)"
      ]
     },
     "execution_count": 95,
     "metadata": {},
     "output_type": "execute_result"
    }
   ],
   "source": [
    "train.shape"
   ]
  },
  {
   "cell_type": "code",
   "execution_count": 96,
   "metadata": {},
   "outputs": [
    {
     "data": {
      "text/plain": [
       "(418, 11)"
      ]
     },
     "execution_count": 96,
     "metadata": {},
     "output_type": "execute_result"
    }
   ],
   "source": [
    "test.shape"
   ]
  },
  {
   "cell_type": "code",
   "execution_count": 97,
   "metadata": {},
   "outputs": [
    {
     "data": {
      "text/plain": [
       "PassengerId      int64\n",
       "Survived         int64\n",
       "Pclass           int64\n",
       "Name            object\n",
       "Sex             object\n",
       "Age            float64\n",
       "SibSp            int64\n",
       "Parch            int64\n",
       "Ticket          object\n",
       "Fare           float64\n",
       "Cabin           object\n",
       "Embarked        object\n",
       "dtype: object"
      ]
     },
     "execution_count": 97,
     "metadata": {},
     "output_type": "execute_result"
    }
   ],
   "source": [
    "train.dtypes"
   ]
  },
  {
   "cell_type": "code",
   "execution_count": 98,
   "metadata": {},
   "outputs": [
    {
     "data": {
      "text/plain": [
       "PassengerId    446.000000\n",
       "Survived         0.383838\n",
       "Pclass           2.308642\n",
       "Age             29.699118\n",
       "SibSp            0.523008\n",
       "Parch            0.381594\n",
       "Fare            32.204208\n",
       "dtype: float64"
      ]
     },
     "execution_count": 98,
     "metadata": {},
     "output_type": "execute_result"
    }
   ],
   "source": [
    "train.mean()"
   ]
  },
  {
   "cell_type": "code",
   "execution_count": 99,
   "metadata": {},
   "outputs": [
    {
     "data": {
      "text/plain": [
       "PassengerId    891\n",
       "Survived         2\n",
       "Pclass           3\n",
       "Name           891\n",
       "Sex              2\n",
       "Age             91\n",
       "SibSp            7\n",
       "Parch            7\n",
       "Ticket         681\n",
       "Fare           248\n",
       "Cabin          147\n",
       "Embarked         3\n",
       "dtype: int64"
      ]
     },
     "execution_count": 99,
     "metadata": {},
     "output_type": "execute_result"
    }
   ],
   "source": [
    "train.nunique()"
   ]
  },
  {
   "cell_type": "code",
   "execution_count": 100,
   "metadata": {},
   "outputs": [
    {
     "data": {
      "text/html": [
       "<div>\n",
       "<style scoped>\n",
       "    .dataframe tbody tr th:only-of-type {\n",
       "        vertical-align: middle;\n",
       "    }\n",
       "\n",
       "    .dataframe tbody tr th {\n",
       "        vertical-align: top;\n",
       "    }\n",
       "\n",
       "    .dataframe thead th {\n",
       "        text-align: right;\n",
       "    }\n",
       "</style>\n",
       "<table border=\"1\" class=\"dataframe\">\n",
       "  <thead>\n",
       "    <tr style=\"text-align: right;\">\n",
       "      <th></th>\n",
       "      <th>PassengerId</th>\n",
       "      <th>Survived</th>\n",
       "      <th>Pclass</th>\n",
       "      <th>Age</th>\n",
       "      <th>SibSp</th>\n",
       "      <th>Parch</th>\n",
       "      <th>Fare</th>\n",
       "    </tr>\n",
       "  </thead>\n",
       "  <tbody>\n",
       "    <tr>\n",
       "      <th>count</th>\n",
       "      <td>891.000000</td>\n",
       "      <td>891.000000</td>\n",
       "      <td>891.000000</td>\n",
       "      <td>891.000000</td>\n",
       "      <td>891.000000</td>\n",
       "      <td>891.000000</td>\n",
       "      <td>891.000000</td>\n",
       "    </tr>\n",
       "    <tr>\n",
       "      <th>mean</th>\n",
       "      <td>446.000000</td>\n",
       "      <td>0.383838</td>\n",
       "      <td>2.308642</td>\n",
       "      <td>29.699118</td>\n",
       "      <td>0.523008</td>\n",
       "      <td>0.381594</td>\n",
       "      <td>32.204208</td>\n",
       "    </tr>\n",
       "    <tr>\n",
       "      <th>std</th>\n",
       "      <td>257.353842</td>\n",
       "      <td>0.486592</td>\n",
       "      <td>0.836071</td>\n",
       "      <td>13.268265</td>\n",
       "      <td>1.102743</td>\n",
       "      <td>0.806057</td>\n",
       "      <td>49.693429</td>\n",
       "    </tr>\n",
       "    <tr>\n",
       "      <th>min</th>\n",
       "      <td>1.000000</td>\n",
       "      <td>0.000000</td>\n",
       "      <td>1.000000</td>\n",
       "      <td>0.420000</td>\n",
       "      <td>0.000000</td>\n",
       "      <td>0.000000</td>\n",
       "      <td>0.000000</td>\n",
       "    </tr>\n",
       "    <tr>\n",
       "      <th>25%</th>\n",
       "      <td>223.500000</td>\n",
       "      <td>0.000000</td>\n",
       "      <td>2.000000</td>\n",
       "      <td>22.000000</td>\n",
       "      <td>0.000000</td>\n",
       "      <td>0.000000</td>\n",
       "      <td>7.910400</td>\n",
       "    </tr>\n",
       "    <tr>\n",
       "      <th>50%</th>\n",
       "      <td>446.000000</td>\n",
       "      <td>0.000000</td>\n",
       "      <td>3.000000</td>\n",
       "      <td>29.699118</td>\n",
       "      <td>0.000000</td>\n",
       "      <td>0.000000</td>\n",
       "      <td>14.454200</td>\n",
       "    </tr>\n",
       "    <tr>\n",
       "      <th>75%</th>\n",
       "      <td>668.500000</td>\n",
       "      <td>1.000000</td>\n",
       "      <td>3.000000</td>\n",
       "      <td>36.962366</td>\n",
       "      <td>1.000000</td>\n",
       "      <td>0.000000</td>\n",
       "      <td>31.000000</td>\n",
       "    </tr>\n",
       "    <tr>\n",
       "      <th>max</th>\n",
       "      <td>891.000000</td>\n",
       "      <td>1.000000</td>\n",
       "      <td>3.000000</td>\n",
       "      <td>80.000000</td>\n",
       "      <td>8.000000</td>\n",
       "      <td>6.000000</td>\n",
       "      <td>512.329200</td>\n",
       "    </tr>\n",
       "  </tbody>\n",
       "</table>\n",
       "</div>"
      ],
      "text/plain": [
       "       PassengerId    Survived      Pclass         Age       SibSp  \\\n",
       "count   891.000000  891.000000  891.000000  891.000000  891.000000   \n",
       "mean    446.000000    0.383838    2.308642   29.699118    0.523008   \n",
       "std     257.353842    0.486592    0.836071   13.268265    1.102743   \n",
       "min       1.000000    0.000000    1.000000    0.420000    0.000000   \n",
       "25%     223.500000    0.000000    2.000000   22.000000    0.000000   \n",
       "50%     446.000000    0.000000    3.000000   29.699118    0.000000   \n",
       "75%     668.500000    1.000000    3.000000   36.962366    1.000000   \n",
       "max     891.000000    1.000000    3.000000   80.000000    8.000000   \n",
       "\n",
       "            Parch        Fare  \n",
       "count  891.000000  891.000000  \n",
       "mean     0.381594   32.204208  \n",
       "std      0.806057   49.693429  \n",
       "min      0.000000    0.000000  \n",
       "25%      0.000000    7.910400  \n",
       "50%      0.000000   14.454200  \n",
       "75%      0.000000   31.000000  \n",
       "max      6.000000  512.329200  "
      ]
     },
     "execution_count": 100,
     "metadata": {},
     "output_type": "execute_result"
    }
   ],
   "source": [
    "train.describe()"
   ]
  },
  {
   "cell_type": "code",
   "execution_count": 101,
   "metadata": {},
   "outputs": [
    {
     "data": {
      "text/plain": [
       "Pclass\n",
       "1    136\n",
       "2     87\n",
       "3    119\n",
       "Name: Survived, dtype: int64"
      ]
     },
     "execution_count": 101,
     "metadata": {},
     "output_type": "execute_result"
    }
   ],
   "source": [
    "survived_class = train.groupby(['Pclass'])['Survived'].sum()\n",
    "survived_class"
   ]
  },
  {
   "cell_type": "code",
   "execution_count": 102,
   "metadata": {},
   "outputs": [
    {
     "data": {
      "image/png": "[encoded data removed]",
      "text/plain": [
       "<Figure size 432x288 with 1 Axes>"
      ]
     },
     "metadata": {
      "needs_background": "light"
     },
     "output_type": "display_data"
    }
   ],
   "source": [
    "survived_class.plot.bar()\n",
    "plt.show()"
   ]
  },
  {
   "cell_type": "code",
   "execution_count": 103,
   "metadata": {},
   "outputs": [
    {
     "data": {
      "image/png": "[encoded data removed]",
      "text/plain": [
       "<Figure size 432x288 with 1 Axes>"
      ]
     },
     "metadata": {
      "needs_background": "light"
     },
     "output_type": "display_data"
    }
   ],
   "source": [
    "fare_class = sns.boxplot(data=train, x='Pclass', y='Fare')"
   ]
  },
  {
   "cell_type": "code",
   "execution_count": 104,
   "metadata": {},
   "outputs": [
    {
     "data": {
      "text/html": [
       "<div>\n",
       "<style scoped>\n",
       "    .dataframe tbody tr th:only-of-type {\n",
       "        vertical-align: middle;\n",
       "    }\n",
       "\n",
       "    .dataframe tbody tr th {\n",
       "        vertical-align: top;\n",
       "    }\n",
       "\n",
       "    .dataframe thead th {\n",
       "        text-align: right;\n",
       "    }\n",
       "</style>\n",
       "<table border=\"1\" class=\"dataframe\">\n",
       "  <thead>\n",
       "    <tr style=\"text-align: right;\">\n",
       "      <th></th>\n",
       "      <th></th>\n",
       "      <th></th>\n",
       "      <th>mean</th>\n",
       "      <th>max</th>\n",
       "      <th>min</th>\n",
       "    </tr>\n",
       "    <tr>\n",
       "      <th>Sex</th>\n",
       "      <th>Survived</th>\n",
       "      <th>Pclass</th>\n",
       "      <th></th>\n",
       "      <th></th>\n",
       "      <th></th>\n",
       "    </tr>\n",
       "  </thead>\n",
       "  <tbody>\n",
       "    <tr>\n",
       "      <th rowspan=\"6\" valign=\"top\">female</th>\n",
       "      <th rowspan=\"3\" valign=\"top\">0</th>\n",
       "      <th>1</th>\n",
       "      <td>110.604167</td>\n",
       "      <td>151.5500</td>\n",
       "      <td>28.7125</td>\n",
       "    </tr>\n",
       "    <tr>\n",
       "      <th>2</th>\n",
       "      <td>18.250000</td>\n",
       "      <td>26.0000</td>\n",
       "      <td>10.5000</td>\n",
       "    </tr>\n",
       "    <tr>\n",
       "      <th>3</th>\n",
       "      <td>19.773093</td>\n",
       "      <td>69.5500</td>\n",
       "      <td>6.7500</td>\n",
       "    </tr>\n",
       "    <tr>\n",
       "      <th rowspan=\"3\" valign=\"top\">1</th>\n",
       "      <th>1</th>\n",
       "      <td>105.978159</td>\n",
       "      <td>512.3292</td>\n",
       "      <td>25.9292</td>\n",
       "    </tr>\n",
       "    <tr>\n",
       "      <th>2</th>\n",
       "      <td>22.288989</td>\n",
       "      <td>65.0000</td>\n",
       "      <td>10.5000</td>\n",
       "    </tr>\n",
       "    <tr>\n",
       "      <th>3</th>\n",
       "      <td>12.464526</td>\n",
       "      <td>31.3875</td>\n",
       "      <td>7.2250</td>\n",
       "    </tr>\n",
       "    <tr>\n",
       "      <th rowspan=\"6\" valign=\"top\">male</th>\n",
       "      <th rowspan=\"3\" valign=\"top\">0</th>\n",
       "      <th>1</th>\n",
       "      <td>62.894910</td>\n",
       "      <td>263.0000</td>\n",
       "      <td>0.0000</td>\n",
       "    </tr>\n",
       "    <tr>\n",
       "      <th>2</th>\n",
       "      <td>19.488965</td>\n",
       "      <td>73.5000</td>\n",
       "      <td>0.0000</td>\n",
       "    </tr>\n",
       "    <tr>\n",
       "      <th>3</th>\n",
       "      <td>12.204469</td>\n",
       "      <td>69.5500</td>\n",
       "      <td>0.0000</td>\n",
       "    </tr>\n",
       "    <tr>\n",
       "      <th rowspan=\"3\" valign=\"top\">1</th>\n",
       "      <th>1</th>\n",
       "      <td>74.637320</td>\n",
       "      <td>512.3292</td>\n",
       "      <td>26.2875</td>\n",
       "    </tr>\n",
       "    <tr>\n",
       "      <th>2</th>\n",
       "      <td>21.095100</td>\n",
       "      <td>39.0000</td>\n",
       "      <td>10.5000</td>\n",
       "    </tr>\n",
       "    <tr>\n",
       "      <th>3</th>\n",
       "      <td>15.579696</td>\n",
       "      <td>56.4958</td>\n",
       "      <td>0.0000</td>\n",
       "    </tr>\n",
       "  </tbody>\n",
       "</table>\n",
       "</div>"
      ],
      "text/plain": [
       "                              mean       max      min\n",
       "Sex    Survived Pclass                               \n",
       "female 0        1       110.604167  151.5500  28.7125\n",
       "                2        18.250000   26.0000  10.5000\n",
       "                3        19.773093   69.5500   6.7500\n",
       "       1        1       105.978159  512.3292  25.9292\n",
       "                2        22.288989   65.0000  10.5000\n",
       "                3        12.464526   31.3875   7.2250\n",
       "male   0        1        62.894910  263.0000   0.0000\n",
       "                2        19.488965   73.5000   0.0000\n",
       "                3        12.204469   69.5500   0.0000\n",
       "       1        1        74.637320  512.3292  26.2875\n",
       "                2        21.095100   39.0000  10.5000\n",
       "                3        15.579696   56.4958   0.0000"
      ]
     },
     "execution_count": 104,
     "metadata": {},
     "output_type": "execute_result"
    }
   ],
   "source": [
    "train.groupby(['Sex', 'Survived', 'Pclass'])['Fare'].agg(['mean', 'max', 'min'])"
   ]
  },
  {
   "cell_type": "code",
   "execution_count": 105,
   "metadata": {},
   "outputs": [
    {
     "data": {
      "text/plain": [
       "SibSp\n",
       "0    210\n",
       "1    112\n",
       "2     13\n",
       "3      4\n",
       "4      3\n",
       "5      0\n",
       "8      0\n",
       "Name: Survived, dtype: int64"
      ]
     },
     "execution_count": 105,
     "metadata": {},
     "output_type": "execute_result"
    }
   ],
   "source": [
    "sib_surv = train.groupby(['SibSp'])['Survived'].sum()\n",
    "sib_surv"
   ]
  },
  {
   "cell_type": "code",
   "execution_count": 106,
   "metadata": {},
   "outputs": [
    {
     "data": {
      "text/plain": [
       "<AxesSubplot:xlabel='SibSp'>"
      ]
     },
     "execution_count": 106,
     "metadata": {},
     "output_type": "execute_result"
    },
    {
     "data": {
      "image/png": "[encoded data removed]",
      "text/plain": [
       "<Figure size 432x288 with 1 Axes>"
      ]
     },
     "metadata": {
      "needs_background": "light"
     },
     "output_type": "display_data"
    }
   ],
   "source": [
    "sib_surv.plot.bar()"
   ]
  },
  {
   "cell_type": "code",
   "execution_count": 107,
   "metadata": {},
   "outputs": [
    {
     "data": {
      "text/plain": [
       "Parch\n",
       "0    233\n",
       "1     65\n",
       "2     40\n",
       "3      3\n",
       "4      0\n",
       "5      1\n",
       "6      0\n",
       "Name: Survived, dtype: int64"
      ]
     },
     "execution_count": 107,
     "metadata": {},
     "output_type": "execute_result"
    }
   ],
   "source": [
    "parch_surv = train.groupby(['Parch'])['Survived'].sum()\n",
    "parch_surv"
   ]
  },
  {
   "cell_type": "code",
   "execution_count": 108,
   "metadata": {},
   "outputs": [
    {
     "data": {
      "text/plain": [
       "<AxesSubplot:xlabel='Parch'>"
      ]
     },
     "execution_count": 108,
     "metadata": {},
     "output_type": "execute_result"
    },
    {
     "data": {
      "image/png": "[encoded data removed]",
      "text/plain": [
       "<Figure size 432x288 with 1 Axes>"
      ]
     },
     "metadata": {
      "needs_background": "light"
     },
     "output_type": "display_data"
    }
   ],
   "source": [
    "parch_surv.plot.bar()"
   ]
  },
  {
   "cell_type": "code",
   "execution_count": 109,
   "metadata": {},
   "outputs": [
    {
     "data": {
      "image/png": "[encoded data removed]",
      "text/plain": [
       "<Figure size 432x288 with 1 Axes>"
      ]
     },
     "metadata": {
      "needs_background": "light"
     },
     "output_type": "display_data"
    }
   ],
   "source": [
    "fare_survived = sns.boxplot(data=train, x='Survived', y='Fare')"
   ]
  },
  {
   "cell_type": "code",
   "execution_count": 110,
   "metadata": {},
   "outputs": [
    {
     "data": {
      "text/plain": [
       "Sex\n",
       "female    233\n",
       "male      109\n",
       "Name: Survived, dtype: int64"
      ]
     },
     "execution_count": 110,
     "metadata": {},
     "output_type": "execute_result"
    }
   ],
   "source": [
    "sex_survived = train.groupby(['Sex'])['Survived'].sum()\n",
    "sex_survived"
   ]
  },
  {
   "cell_type": "code",
   "execution_count": 111,
   "metadata": {},
   "outputs": [
    {
     "data": {
      "image/png": "[encoded data removed]",
      "text/plain": [
       "<Figure size 432x288 with 1 Axes>"
      ]
     },
     "metadata": {
      "needs_background": "light"
     },
     "output_type": "display_data"
    }
   ],
   "source": [
    "sex_survived.plot.bar()\n",
    "plt.show()"
   ]
  },
  {
   "cell_type": "code",
   "execution_count": 112,
   "metadata": {},
   "outputs": [
    {
     "data": {
      "text/plain": [
       "Embarked\n",
       "C     93\n",
       "Q     30\n",
       "S    219\n",
       "Name: Survived, dtype: int64"
      ]
     },
     "execution_count": 112,
     "metadata": {},
     "output_type": "execute_result"
    }
   ],
   "source": [
    "embarked_surv = train.groupby(['Embarked'])['Survived'].sum()\n",
    "embarked_surv"
   ]
  },
  {
   "cell_type": "code",
   "execution_count": 113,
   "metadata": {},
   "outputs": [
    {
     "data": {
      "text/plain": [
       "<AxesSubplot:xlabel='Embarked'>"
      ]
     },
     "execution_count": 113,
     "metadata": {},
     "output_type": "execute_result"
    },
    {
     "data": {
      "image/png": "[encoded data removed]",
      "text/plain": [
       "<Figure size 432x288 with 1 Axes>"
      ]
     },
     "metadata": {
      "needs_background": "light"
     },
     "output_type": "display_data"
    }
   ],
   "source": [
    "embarked_surv.plot.bar()"
   ]
  },
  {
   "cell_type": "markdown",
   "metadata": {},
   "source": [
    "# Inferências"
   ]
  },
  {
   "cell_type": "markdown",
   "metadata": {},
   "source": [
    "## Podemos obter as seguintes conclusões com a exploração de dados acima:"
   ]
  },
  {
   "cell_type": "markdown",
   "metadata": {},
   "source": [
    "<ul>\n",
    "    <li><b>A maior parte dos sobreviventes pertencia à classe 1</b></li>\n",
    "    <li><b>A maior parte dos sobreviventes possuia no máximo 2 filhos ou companheiros</b></li>\n",
    "    <li><b>A maior parte dos sobreviventes tinha idade entre 15 e 40 anos, com média de 29,6 anos</b></li>\n",
    "    <li><b>A maior parte dos sobreviventes era do sexo feminino</b></li>\n",
    "    <li><b>A maior parte dos sobreviventes embarcou em Southampton</b></li>\n",
    "</ul>\n",
    "    "
   ]
  },
  {
   "cell_type": "markdown",
   "metadata": {
    "id": "8XC3W3R8OA7A"
   },
   "source": [
    "Trata-se de um problema de Classificação, uma vez que nossa variável target (Survived) é uma variável categórica binária (só assume valor 0 ou 1). Além disso, sabemos se tratar de um problema de aprendizado supervisionado, dado que para treinar nosso modelo conhecemos o label de cada passageiro, isto é se ele sobreviveu ou não."
   ]
  },
  {
   "cell_type": "markdown",
   "metadata": {
    "id": "fSCV-2M6OA7E"
   },
   "source": [
    "# 4. Feature Engineering\n",
    "\n",
    "Agora que temos os dados limpos e entendemos um pouco mais do problema de negócio, hora de tentar criar variáveis, a partir das existentes, para aumentar a explicabilidade do modelo. \n",
    "\n",
    "Deixo algumas ideias aqui: será que o fato de o número da cabine ser nulo têm alguma influência sobre a probabilidade de a pessoa sobreviver ou não? Na variável com o nome do passageiro, temos o título (Mr., Mrs., etc). Será que o título, de alguma forma, contribui para a probabilidade de sobrevivência?\n",
    "\n",
    "Usem a criatividade e, principalmente, testem várias coisas diferentes!!"
   ]
  },
  {
   "cell_type": "code",
   "execution_count": 114,
   "metadata": {},
   "outputs": [],
   "source": [
    "def anota(ax):\n",
    "    for bar in ax.patches:\n",
    "        valor = bar.get_height()\n",
    "        x = bar.get_x()+bar.get_width()/2\n",
    "        ax.annotate(valor, xy=(x, valor+.4), ha='center')"
   ]
  },
  {
   "cell_type": "code",
   "execution_count": 115,
   "metadata": {},
   "outputs": [
    {
     "data": {
      "text/plain": [
       "206"
      ]
     },
     "execution_count": 115,
     "metadata": {},
     "output_type": "execute_result"
    }
   ],
   "source": [
    "#Apenas 206 pessoas com cabine nula sobreviveram, \n",
    "null_cabin_survivors = train.loc[train['Cabin'].isna()]['Survived'].sum()\n",
    "null_cabin_survivors"
   ]
  },
  {
   "cell_type": "code",
   "execution_count": 116,
   "metadata": {},
   "outputs": [
    {
     "data": {
      "text/plain": [
       "0.6023391812865497"
      ]
     },
     "execution_count": 116,
     "metadata": {},
     "output_type": "execute_result"
    }
   ],
   "source": [
    "#Isso corresponde a aproximadamente 60% dos sobreviventes\n",
    "surv = train['Survived'].sum()\n",
    "null_cabin_survivors/surv"
   ]
  },
  {
   "cell_type": "code",
   "execution_count": 117,
   "metadata": {},
   "outputs": [
    {
     "data": {
      "text/plain": [
       "136"
      ]
     },
     "execution_count": 117,
     "metadata": {},
     "output_type": "execute_result"
    }
   ],
   "source": [
    "non_null_survivors = surv - null_cabin_survivors\n",
    "non_null_survivors"
   ]
  },
  {
   "cell_type": "code",
   "execution_count": 118,
   "metadata": {},
   "outputs": [
    {
     "data": {
      "text/plain": [
       "0.39766081871345027"
      ]
     },
     "execution_count": 118,
     "metadata": {},
     "output_type": "execute_result"
    }
   ],
   "source": [
    "#Já os sobreviventes com cabine determinada correspondem a aproximadamente 40%\n",
    "non_null_survivors/surv"
   ]
  },
  {
   "cell_type": "code",
   "execution_count": 119,
   "metadata": {},
   "outputs": [
    {
     "data": {
      "text/plain": [
       "array([nan, 'C85', 'C123', 'E46', 'G6', 'C103', 'D56', 'A6',\n",
       "       'C23 C25 C27', 'B78', 'D33', 'B30', 'C52', 'B28', 'C83', 'F33',\n",
       "       'F G73', 'E31', 'A5', 'D10 D12', 'D26', 'C110', 'B58 B60', 'E101',\n",
       "       'F E69', 'D47', 'B86', 'F2', 'C2', 'E33', 'B19', 'A7', 'C49', 'F4',\n",
       "       'A32', 'B4', 'B80', 'A31', 'D36', 'D15', 'C93', 'C78', 'D35',\n",
       "       'C87', 'B77', 'E67', 'B94', 'C125', 'C99', 'C118', 'D7', 'A19',\n",
       "       'B49', 'D', 'C22 C26', 'C106', 'C65', 'E36', 'C54',\n",
       "       'B57 B59 B63 B66', 'C7', 'E34', 'C32', 'B18', 'C124', 'C91', 'E40',\n",
       "       'T', 'C128', 'D37', 'B35', 'E50', 'C82', 'B96 B98', 'E10', 'E44',\n",
       "       'A34', 'C104', 'C111', 'C92', 'E38', 'D21', 'E12', 'E63', 'A14',\n",
       "       'B37', 'C30', 'D20', 'B79', 'E25', 'D46', 'B73', 'C95', 'B38',\n",
       "       'B39', 'B22', 'C86', 'C70', 'A16', 'C101', 'C68', 'A10', 'E68',\n",
       "       'B41', 'A20', 'D19', 'D50', 'D9', 'A23', 'B50', 'A26', 'D48',\n",
       "       'E58', 'C126', 'B71', 'B51 B53 B55', 'D49', 'B5', 'B20', 'F G63',\n",
       "       'C62 C64', 'E24', 'C90', 'C45', 'E8', 'B101', 'D45', 'C46', 'D30',\n",
       "       'E121', 'D11', 'E77', 'F38', 'B3', 'D6', 'B82 B84', 'D17', 'A36',\n",
       "       'B102', 'B69', 'E49', 'C47', 'D28', 'E17', 'A24', 'C50', 'B42',\n",
       "       'C148'], dtype=object)"
      ]
     },
     "execution_count": 119,
     "metadata": {},
     "output_type": "execute_result"
    }
   ],
   "source": [
    "#Vamos analisar como são as cabines\n",
    "train['Cabin'].unique()"
   ]
  },
  {
   "cell_type": "code",
   "execution_count": 120,
   "metadata": {},
   "outputs": [],
   "source": [
    "cabines_sobreviventes = train.loc[train['Survived'] == 1]['Cabin'].dropna().str.split()\n",
    "cabines_mortos = train.loc[train['Survived'] == 0]['Cabin'].dropna().str.split()\n",
    "letra_sobrevivente = []\n",
    "letra_morto = []\n",
    "for cabine in cabines_sobreviventes:\n",
    "    if len(cabine)>1:\n",
    "        for i in cabine:\n",
    "            letra_sobrevivente.append(i[0])\n",
    "    else:    \n",
    "        letra_sobrevivente.append(cabine[0][0])\n",
    "        \n",
    "for cabine in cabines_mortos:\n",
    "    if len(cabine)>1:\n",
    "        for i in cabine:\n",
    "            letra_morto.append(i[0])\n",
    "    else:    \n",
    "        letra_morto.append(cabine[0][0])\n",
    "        \n",
    "sobreviventes = {}\n",
    "mortos = {}\n",
    "for i in letra_sobrevivente:\n",
    "    sobreviventes[i] = letra_sobrevivente.count(i)\n",
    "\n",
    "for i in letra_morto:\n",
    "    mortos[i] = letra_morto.count(i)\n",
    "sobreviventes = pd.Series(sobreviventes)\n",
    "mortos = pd.Series(mortos)\n",
    "total = mortos + sobreviventes"
   ]
  },
  {
   "cell_type": "code",
   "execution_count": 121,
   "metadata": {},
   "outputs": [
    {
     "data": {
      "image/png": "[encoded data removed]",
      "text/plain": [
       "<Figure size 864x576 with 1 Axes>"
      ]
     },
     "metadata": {
      "needs_background": "light"
     },
     "output_type": "display_data"
    }
   ],
   "source": [
    "ax1 = sobreviventes.sort_values(ascending=False).plot.bar(title='Sobreviventes', figsize=(12,8))\n",
    "anota(ax1)"
   ]
  },
  {
   "cell_type": "code",
   "execution_count": 122,
   "metadata": {},
   "outputs": [
    {
     "data": {
      "image/png": "[encoded data removed]",
      "text/plain": [
       "<Figure size 864x576 with 1 Axes>"
      ]
     },
     "metadata": {
      "needs_background": "light"
     },
     "output_type": "display_data"
    }
   ],
   "source": [
    "ax2 = mortos.sort_values(ascending=False).plot.bar(title='Mortos', figsize=(12,8))\n",
    "anota(ax2)"
   ]
  },
  {
   "cell_type": "code",
   "execution_count": 123,
   "metadata": {},
   "outputs": [
    {
     "data": {
      "image/png": "[encoded data removed]",
      "text/plain": [
       "<Figure size 864x576 with 1 Axes>"
      ]
     },
     "metadata": {
      "needs_background": "light"
     },
     "output_type": "display_data"
    }
   ],
   "source": [
    "ax3 = total.sort_values(ascending=False).plot.bar(title='Total', figsize=(12,8))\n",
    "anota(ax3)"
   ]
  },
  {
   "cell_type": "markdown",
   "metadata": {},
   "source": [
    "Podemos observar que a quantidade de sobreviventes e mortos estão em relativo equilibrio, ou seja, as cabines com mais registros possuem tanto mais sobreviventes quanto mais mortos, já as com menos registros apresentam menos sobreviventes e menos mortos, com essa distribuição, é conveniente retirar a coluna `Cabin` do nosso modelo"
   ]
  },
  {
   "cell_type": "markdown",
   "metadata": {},
   "source": [
    "## Vamos agora analisar os sobreviventes de acordo com seus títulos"
   ]
  },
  {
   "cell_type": "code",
   "execution_count": 124,
   "metadata": {},
   "outputs": [],
   "source": [
    "nomes_sobreviventes = train.loc[train['Survived'] == 1]['Name'].str.split()\n",
    "nomes_mortos = train.loc[train['Survived'] == 0]['Name'].str.split()\n",
    "titulos_sobreviventes = []\n",
    "titulos_mortos = []\n",
    "for nome in nomes_sobreviventes:\n",
    "    if nome[1][-1] == '.':\n",
    "        titulos_sobreviventes.append(nome[1])\n",
    "    else:\n",
    "        for i in nome:\n",
    "            if i[-1] == '.':\n",
    "                titulos_sobreviventes.append(i)\n",
    "                \n",
    "for nome in nomes_mortos:\n",
    "    if nome[1][-1] == '.':\n",
    "        titulos_mortos.append(nome[1])\n",
    "    else:\n",
    "        for i in nome:\n",
    "            if i[-1] == '.':\n",
    "                titulos_mortos.append(i)\n",
    "\n",
    "contagem_sobreviventes = {}\n",
    "contagem_mortos = {}\n",
    "for titulo in titulos_sobreviventes:\n",
    "    contagem_sobreviventes[titulo] = titulos_sobreviventes.count(titulo)\n",
    "for titulo in titulos_mortos:\n",
    "    contagem_mortos[titulo] = titulos_mortos.count(titulo)\n",
    "titles_survived = pd.Series(contagem_sobreviventes)\n",
    "titles_dead = pd.Series(contagem_mortos)"
   ]
  },
  {
   "cell_type": "code",
   "execution_count": 125,
   "metadata": {},
   "outputs": [
    {
     "data": {
      "image/png": "[encoded data removed]",
      "text/plain": [
       "<Figure size 864x576 with 1 Axes>"
      ]
     },
     "metadata": {
      "needs_background": "light"
     },
     "output_type": "display_data"
    }
   ],
   "source": [
    "ax1 = titles_survived.sort_values(ascending=False).plot.bar(title='Sobreviventes', figsize=(12,8))\n",
    "anota(ax1)"
   ]
  },
  {
   "cell_type": "code",
   "execution_count": 126,
   "metadata": {},
   "outputs": [
    {
     "data": {
      "image/png": "[encoded data removed]",
      "text/plain": [
       "<Figure size 864x576 with 1 Axes>"
      ]
     },
     "metadata": {
      "needs_background": "light"
     },
     "output_type": "display_data"
    }
   ],
   "source": [
    "ax2 = titles_dead.sort_values(ascending=False).plot.bar(title='Mortos', figsize=(12,8))\n",
    "anota(ax2)"
   ]
  },
  {
   "cell_type": "markdown",
   "metadata": {},
   "source": [
    "Podemos notar que há muito mais sobreviventes com os títulos femininos `Miss.` e `Mrs.` enquanto há um notável número de pessoas com o título masculino `Mr.` que não sobreviveram. Isso reforça a observação anterior de que houveram mais sobreviventes do sexo feminino do que do sexo masculino. Há ainda algumas poucas com títulos feminos diferentes como `Lady` e `Countess`, que possuem um grau maior de distinção, que também sobreviveram.  \n",
    "Conclusão: há fortes indícios de que o título influencia na chance de sobrevivência da pessoa e será uma feature importante no nosso modelo"
   ]
  },
  {
   "cell_type": "code",
   "execution_count": 127,
   "metadata": {},
   "outputs": [],
   "source": [
    "#Definindo a função para criar a coluna 'title'\n",
    "\n",
    "def pega_titulo(df):\n",
    "    nome = df.split()\n",
    "    for i in range(len(nome)):\n",
    "        if '.' in nome[i]:\n",
    "            return nome[i]"
   ]
  },
  {
   "cell_type": "code",
   "execution_count": 128,
   "metadata": {},
   "outputs": [
    {
     "data": {
      "text/plain": [
       "0"
      ]
     },
     "execution_count": 128,
     "metadata": {},
     "output_type": "execute_result"
    }
   ],
   "source": [
    "#Extraindo os títulos dos nomes\n",
    "\n",
    "train['Titulo'] = train['Name'].apply(pega_titulo)\n",
    "train['Titulo'].isna().sum()#Verifica se todos os nomes possuem algum título"
   ]
  },
  {
   "cell_type": "code",
   "execution_count": 129,
   "metadata": {},
   "outputs": [
    {
     "data": {
      "image/png": "[encoded data removed]",
      "text/plain": [
       "<Figure size 864x576 with 1 Axes>"
      ]
     },
     "metadata": {
      "needs_background": "light"
     },
     "output_type": "display_data"
    }
   ],
   "source": [
    "ax4 = train['Titulo'].value_counts().plot.bar(figsize=(12,8))\n",
    "anota(ax4)"
   ]
  },
  {
   "cell_type": "code",
   "execution_count": 130,
   "metadata": {},
   "outputs": [
    {
     "data": {
      "text/html": [
       "<div>\n",
       "<style scoped>\n",
       "    .dataframe tbody tr th:only-of-type {\n",
       "        vertical-align: middle;\n",
       "    }\n",
       "\n",
       "    .dataframe tbody tr th {\n",
       "        vertical-align: top;\n",
       "    }\n",
       "\n",
       "    .dataframe thead th {\n",
       "        text-align: right;\n",
       "    }\n",
       "</style>\n",
       "<table border=\"1\" class=\"dataframe\">\n",
       "  <thead>\n",
       "    <tr style=\"text-align: right;\">\n",
       "      <th></th>\n",
       "      <th>PassengerId</th>\n",
       "      <th>Survived</th>\n",
       "      <th>Pclass</th>\n",
       "      <th>Name</th>\n",
       "      <th>Sex</th>\n",
       "      <th>Age</th>\n",
       "      <th>SibSp</th>\n",
       "      <th>Parch</th>\n",
       "      <th>Ticket</th>\n",
       "      <th>Fare</th>\n",
       "      <th>Cabin</th>\n",
       "      <th>Embarked</th>\n",
       "      <th>Titulo</th>\n",
       "    </tr>\n",
       "  </thead>\n",
       "  <tbody>\n",
       "    <tr>\n",
       "      <th>0</th>\n",
       "      <td>1</td>\n",
       "      <td>0</td>\n",
       "      <td>3</td>\n",
       "      <td>Braund, Mr. Owen Harris</td>\n",
       "      <td>male</td>\n",
       "      <td>22.0</td>\n",
       "      <td>1</td>\n",
       "      <td>0</td>\n",
       "      <td>A/5 21171</td>\n",
       "      <td>7.25</td>\n",
       "      <td>NaN</td>\n",
       "      <td>S</td>\n",
       "      <td>Mr.</td>\n",
       "    </tr>\n",
       "  </tbody>\n",
       "</table>\n",
       "</div>"
      ],
      "text/plain": [
       "   PassengerId  Survived  Pclass                     Name   Sex   Age  SibSp  \\\n",
       "0            1         0       3  Braund, Mr. Owen Harris  male  22.0      1   \n",
       "\n",
       "   Parch     Ticket  Fare Cabin Embarked Titulo  \n",
       "0      0  A/5 21171  7.25   NaN        S    Mr.  "
      ]
     },
     "execution_count": 130,
     "metadata": {},
     "output_type": "execute_result"
    }
   ],
   "source": [
    "train.head(1)"
   ]
  },
  {
   "cell_type": "markdown",
   "metadata": {},
   "source": [
    "## Portanto, podemos definir as que as fetures que serão utilizadas no modelo são:  \n",
    "- `Pclass`\n",
    "- `Sex`\n",
    "- `Age`\n",
    "- `SibSp`\n",
    "- `Parch`\n",
    "- `Fare`\n",
    "- `Titulo`\n",
    "- `Embarked`\n",
    "\n",
    "### e a variável alvo é: `Survived`"
   ]
  },
  {
   "cell_type": "code",
   "execution_count": 131,
   "metadata": {},
   "outputs": [],
   "source": [
    "prep_data = pd.get_dummies(train, columns=['Sex', 'Titulo', 'Embarked'], drop_first=True)"
   ]
  },
  {
   "cell_type": "code",
   "execution_count": 132,
   "metadata": {},
   "outputs": [],
   "source": [
    "X = prep_data.drop(['Survived', 'PassengerId', 'Name', 'Ticket', 'Cabin'], axis=1)\n",
    "Y = prep_data['Survived']"
   ]
  },
  {
   "cell_type": "markdown",
   "metadata": {
    "id": "V_KXqSGTOA7L"
   },
   "source": [
    "# 5. Data Prep\n",
    "\n",
    "Tendo em mãos as variáveis selecionadas, hora de pré processar esses dados para entrar no modelo. Importante lembrar os tipos de preparo de dados que cada algoritmo precisa (ex: KNN precisa de scaler, mas será que a árvore de decisão também precisa?)"
   ]
  },
  {
   "cell_type": "code",
   "execution_count": 133,
   "metadata": {},
   "outputs": [],
   "source": [
    "age_scaler = MinMaxScaler().fit_transform(X[['Fare']])\n",
    "fare_scaler = MinMaxScaler().fit_transform(X[['Age']])"
   ]
  },
  {
   "cell_type": "code",
   "execution_count": 134,
   "metadata": {},
   "outputs": [],
   "source": [
    "X['Age'] = age_scaler\n",
    "X['Fare'] = fare_scaler"
   ]
  },
  {
   "cell_type": "markdown",
   "metadata": {
    "id": "1ULobODNOA65"
   },
   "source": [
    "# 6. Dividir o Dataset de Treino em treino e teste\n",
    "\n",
    "Conforme vimos nas aulas, antes de começar a trabalhar com os dados, nós separamos uma parte do DataFrame para posterior avaliação do modelo. É importante que o modelo não tenha contato com nenhuma informação deste DataFrame separado para garantir que quando avaliada sobre este DataFrame, a performance do modelo reflita o comportamento do mesmo para dados nunca vistos."
   ]
  },
  {
   "cell_type": "code",
   "execution_count": 135,
   "metadata": {},
   "outputs": [],
   "source": [
    "x_train, x_test, y_train, y_test = train_test_split(X, Y, test_size=0.25, random_state=1)"
   ]
  },
  {
   "cell_type": "code",
   "execution_count": 136,
   "metadata": {},
   "outputs": [
    {
     "name": "stdout",
     "output_type": "stream",
     "text": [
      "(668, 24)\n",
      "(223, 24)\n",
      "(668,)\n",
      "(223,)\n"
     ]
    }
   ],
   "source": [
    "print(x_train.shape)\n",
    "print(x_test.shape)\n",
    "print(y_train.shape)\n",
    "print(y_test.shape)"
   ]
  },
  {
   "cell_type": "markdown",
   "metadata": {
    "id": "VnQJ8uC3Shdb"
   },
   "source": [
    "# 7. Modelagem\n",
    "\n",
    "Após o tratamento dos dados, podemos partir para a modelagem. Aqui vamos usar 3 tipos de modelos: regressão log (modelo 1), árvore de decisão (modelo 2), KNN (modelo 3)\n"
   ]
  },
  {
   "cell_type": "code",
   "execution_count": 137,
   "metadata": {},
   "outputs": [],
   "source": [
    "log_reg = LogisticRegression().fit(x_train, y_train)"
   ]
  },
  {
   "cell_type": "code",
   "execution_count": 138,
   "metadata": {},
   "outputs": [],
   "source": [
    "dec_tree = dtree().fit(x_train, y_train)"
   ]
  },
  {
   "cell_type": "code",
   "execution_count": 139,
   "metadata": {},
   "outputs": [],
   "source": [
    "knn = KNN().fit(x_train, y_train)"
   ]
  },
  {
   "cell_type": "markdown",
   "metadata": {
    "id": "1ipvyRZVOA7M"
   },
   "source": [
    "# 8. Avaliação do Modelo e escolha do Threshold\n",
    "\n",
    "Modelos treinados, agora bora avaliar a performance dele. Hora de fazer um predict nos dados de treino e de teste (que separamos no começo, ainda não chegou a hora de utilizarmos o dataset de teste fornecido pela competição).\n",
    "\n",
    "A métrica da competição é Accuracy, mas nós vimos outras em aula e vale a pena calcular todas elas (Precision, Recall, F-beta, ROC AUC). \n",
    "\n",
    "Além disso, vale testar diferentes thresholds para todos os modelos para ver se alterando o threshold observamos aumento da performance do modelo. Lembrando que o default do scikit learn é 0.5 :)\n",
    "\n",
    "Importante nos atentarmos às métricas de treino e teste. Lembrando que quando o modelo performa muito bem no treino e não tão bem no teste, este é um indicativo de overfitting. O modelo \"decorou\" os dados de treino, aprendendo, inclusive, o ruído e quando recebe dados nunca vistos, não performa bem. Caso as métricas de treino e teste sejam baixas, isto indica underfitting, ou seja, o modelo não é complexo o suficiente para representar, de forma satisfatória, o problema. Podemos tentar adicionar novas variáveis ou utilizar modelos mais complexos (de maior variância).\n",
    "\n",
    "** Precision x Recall"
   ]
  },
  {
   "cell_type": "code",
   "execution_count": 140,
   "metadata": {},
   "outputs": [],
   "source": [
    "#Modelos\n",
    "models = [log_reg, dec_tree, knn]\n",
    "labels = ['Logistic', 'Decision Tree', 'KNN']"
   ]
  },
  {
   "cell_type": "code",
   "execution_count": 141,
   "metadata": {
    "scrolled": true
   },
   "outputs": [
    {
     "name": "stdout",
     "output_type": "stream",
     "text": [
      "Scores de Treino\n",
      "Logistic Accuracy Score:  0.844311377245509\n",
      "Logistic Precision Score:  0.7942386831275721\n",
      "Logistic Recall Score:  0.7813765182186235\n",
      "Logistic F-Beta Score:  0.7916324856439706\n",
      "Logistic ROC-AUC Score:  0.886928173714022\n",
      "--------------------------------------------------\n",
      "Decision Tree Accuracy Score:  0.9925149700598802\n",
      "Decision Tree Precision Score:  0.9959016393442623\n",
      "Decision Tree Recall Score:  0.9838056680161943\n",
      "Decision Tree F-Beta Score:  0.9934587080948489\n",
      "Decision Tree ROC-AUC Score:  0.9998653677863578\n",
      "--------------------------------------------------\n",
      "KNN Accuracy Score:  0.8532934131736527\n",
      "KNN Precision Score:  0.8340807174887892\n",
      "KNN Recall Score:  0.7530364372469636\n",
      "KNN F-Beta Score:  0.8165057067603161\n",
      "KNN ROC-AUC Score:  0.9310827314952831\n",
      "--------------------------------------------------\n"
     ]
    }
   ],
   "source": [
    "print('Scores de Treino')\n",
    "for label, model in zip(labels,models):\n",
    "    print(f'{label} Accuracy Score: ', accuracy_score(y_train, model.predict(x_train)))\n",
    "    print(f'{label} Precision Score: ', precision_score(y_train, model.predict(x_train)))\n",
    "    print(f'{label} Recall Score: ', recall_score(y_train, model.predict(x_train)))\n",
    "    print(f'{label} F-Beta Score: ', fbeta_score(y_train, model.predict(x_train), beta=0.5))\n",
    "    print(f'{label} ROC-AUC Score: ', roc_auc_score(y_train, model.predict_proba(x_train)[:,1]))\n",
    "    print('-'*50)"
   ]
  },
  {
   "cell_type": "code",
   "execution_count": 142,
   "metadata": {},
   "outputs": [
    {
     "name": "stdout",
     "output_type": "stream",
     "text": [
      "Scores de Teste\n",
      "Logistic Accuracy Score:  0.8071748878923767\n",
      "Logistic Precision Score:  0.8170731707317073\n",
      "Logistic Recall Score:  0.7052631578947368\n",
      "Logistic F-Beta Score:  0.7919621749408983\n",
      "Logistic ROC-AUC Score:  0.8413651315789473\n",
      "--------------------------------------------------\n",
      "Decision Tree Accuracy Score:  0.7443946188340808\n",
      "Decision Tree Precision Score:  0.7261904761904762\n",
      "Decision Tree Recall Score:  0.6421052631578947\n",
      "Decision Tree F-Beta Score:  0.7076566125290022\n",
      "Decision Tree ROC-AUC Score:  0.7322368421052632\n",
      "--------------------------------------------------\n",
      "KNN Accuracy Score:  0.7937219730941704\n",
      "KNN Precision Score:  0.8181818181818182\n",
      "KNN Recall Score:  0.6631578947368421\n",
      "KNN F-Beta Score:  0.781637717121588\n",
      "KNN ROC-AUC Score:  0.8181743421052632\n",
      "--------------------------------------------------\n"
     ]
    }
   ],
   "source": [
    "print('Scores de Teste')\n",
    "for label, model in zip(labels,models):\n",
    "    print(f'{label} Accuracy Score: ', accuracy_score(y_test, model.predict(x_test)))\n",
    "    print(f'{label} Precision Score: ', precision_score(y_test, model.predict(x_test)))\n",
    "    print(f'{label} Recall Score: ', recall_score(y_test, model.predict(x_test)))\n",
    "    print(f'{label} F-Beta Score: ', fbeta_score(y_test, model.predict(x_test), beta=0.5))\n",
    "    print(f'{label} ROC-AUC Score: ', roc_auc_score(y_test, model.predict_proba(x_test)[:,1]))\n",
    "    print('-'*50)"
   ]
  },
  {
   "cell_type": "code",
   "execution_count": 143,
   "metadata": {},
   "outputs": [],
   "source": [
    "fpr, tpr, thresholds = roc_curve(y_test, log_reg.predict_proba(x_test)[:,1])"
   ]
  },
  {
   "cell_type": "code",
   "execution_count": 144,
   "metadata": {},
   "outputs": [
    {
     "data": {
      "text/plain": [
       "82"
      ]
     },
     "execution_count": 144,
     "metadata": {},
     "output_type": "execute_result"
    }
   ],
   "source": [
    "len(thresholds)"
   ]
  },
  {
   "cell_type": "code",
   "execution_count": 145,
   "metadata": {},
   "outputs": [],
   "source": [
    "accuracy = []\n",
    "precision = []\n",
    "recall = []\n",
    "fbeta = []\n",
    "for model in models:\n",
    "    for t in thresholds:\n",
    "        y_pred = np.where(model.predict_proba(x_test)[:,1]>t, 1, 0)\n",
    "        accuracy.append(accuracy_score(y_test, y_pred))\n",
    "        precision.append(precision_score(y_test, y_pred))\n",
    "        recall.append(recall_score(y_test, y_pred))\n",
    "        fbeta.append(fbeta_score(y_test, y_pred, beta=0.5))\n",
    "        \n",
    "ts = [*thresholds, *thresholds, *thresholds]\n",
    "    \n",
    "accuracy_df = pd.concat([pd.Series(ts), pd.Series(accuracy), pd.Series(np.nan)], axis=1)\n",
    "accuracy_df.columns = ['thresholds', 'accuracy', 'model']\n",
    "accuracy_df['model'][0:82] = 'Logistic'\n",
    "accuracy_df['model'][82:164] = 'Decision Tree'\n",
    "accuracy_df['model'][164:] = 'KNN'\n",
    "# accuracy_df.sort_values(by='accuracy')\n",
    "\n",
    "precision_df = pd.concat([pd.Series(ts), pd.Series(precision), pd.Series(np.nan)], axis=1)\n",
    "precision_df.columns = ['thresholds', 'precision', 'model']\n",
    "precision_df['model'][0:82] = 'Logistic'\n",
    "precision_df['model'][82:164] = 'Decision Tree'\n",
    "precision_df['model'][164:] = 'KNN'\n",
    "# precision_df.sort_values(by='precision', ascending=False, inplace=True)\n",
    "\n",
    "recall_df = pd.concat([pd.Series(ts), pd.Series(recall), pd.Series(np.nan)], axis=1)\n",
    "recall_df.columns = ['thresholds', 'recall', 'model']\n",
    "recall_df['model'][0:82] = 'Logistic'\n",
    "recall_df['model'][82:164] = 'Decision Tree'\n",
    "recall_df['model'][164:] = 'KNN'\n",
    "# recall_df.sort_values(by='recall', ascending=False, inplace=True)\n",
    "\n",
    "fbeta_df = pd.concat([pd.Series(ts), pd.Series(fbeta), pd.Series(np.nan)], axis=1)\n",
    "fbeta_df.columns = ['thresholds', 'fbeta', 'model']\n",
    "fbeta_df['model'][0:82] = 'Logistic'\n",
    "fbeta_df['model'][82:164] = 'Decision Tree'\n",
    "fbeta_df['model'][164:] = 'KNN'\n",
    "# fbeta_df.sort_values(by='fbeta', ascending=False, inplace=True)\n"
   ]
  },
  {
   "cell_type": "code",
   "execution_count": 146,
   "metadata": {},
   "outputs": [
    {
     "data": {
      "text/html": [
       "<div>\n",
       "<style scoped>\n",
       "    .dataframe tbody tr th:only-of-type {\n",
       "        vertical-align: middle;\n",
       "    }\n",
       "\n",
       "    .dataframe tbody tr th {\n",
       "        vertical-align: top;\n",
       "    }\n",
       "\n",
       "    .dataframe thead th {\n",
       "        text-align: right;\n",
       "    }\n",
       "</style>\n",
       "<table border=\"1\" class=\"dataframe\">\n",
       "  <thead>\n",
       "    <tr style=\"text-align: right;\">\n",
       "      <th></th>\n",
       "      <th>thresholds</th>\n",
       "      <th>accuracy</th>\n",
       "      <th>model</th>\n",
       "    </tr>\n",
       "  </thead>\n",
       "  <tbody>\n",
       "    <tr>\n",
       "      <th>37</th>\n",
       "      <td>0.349375</td>\n",
       "      <td>0.811659</td>\n",
       "      <td>Logistic</td>\n",
       "    </tr>\n",
       "    <tr>\n",
       "      <th>26</th>\n",
       "      <td>0.473405</td>\n",
       "      <td>0.807175</td>\n",
       "      <td>Logistic</td>\n",
       "    </tr>\n",
       "    <tr>\n",
       "      <th>28</th>\n",
       "      <td>0.450638</td>\n",
       "      <td>0.807175</td>\n",
       "      <td>Logistic</td>\n",
       "    </tr>\n",
       "    <tr>\n",
       "      <th>30</th>\n",
       "      <td>0.405299</td>\n",
       "      <td>0.807175</td>\n",
       "      <td>Logistic</td>\n",
       "    </tr>\n",
       "    <tr>\n",
       "      <th>32</th>\n",
       "      <td>0.394482</td>\n",
       "      <td>0.807175</td>\n",
       "      <td>Logistic</td>\n",
       "    </tr>\n",
       "  </tbody>\n",
       "</table>\n",
       "</div>"
      ],
      "text/plain": [
       "    thresholds  accuracy     model\n",
       "37    0.349375  0.811659  Logistic\n",
       "26    0.473405  0.807175  Logistic\n",
       "28    0.450638  0.807175  Logistic\n",
       "30    0.405299  0.807175  Logistic\n",
       "32    0.394482  0.807175  Logistic"
      ]
     },
     "execution_count": 146,
     "metadata": {},
     "output_type": "execute_result"
    }
   ],
   "source": [
    "accuracy_df.sort_values(by='accuracy', ascending=False).head()"
   ]
  },
  {
   "cell_type": "code",
   "execution_count": 147,
   "metadata": {},
   "outputs": [
    {
     "data": {
      "text/html": [
       "<div>\n",
       "<style scoped>\n",
       "    .dataframe tbody tr th:only-of-type {\n",
       "        vertical-align: middle;\n",
       "    }\n",
       "\n",
       "    .dataframe tbody tr th {\n",
       "        vertical-align: top;\n",
       "    }\n",
       "\n",
       "    .dataframe thead th {\n",
       "        text-align: right;\n",
       "    }\n",
       "</style>\n",
       "<table border=\"1\" class=\"dataframe\">\n",
       "  <thead>\n",
       "    <tr style=\"text-align: right;\">\n",
       "      <th></th>\n",
       "      <th>thresholds</th>\n",
       "      <th>precision</th>\n",
       "      <th>model</th>\n",
       "    </tr>\n",
       "  </thead>\n",
       "  <tbody>\n",
       "    <tr>\n",
       "      <th>2</th>\n",
       "      <td>0.914444</td>\n",
       "      <td>1.000000</td>\n",
       "      <td>Logistic</td>\n",
       "    </tr>\n",
       "    <tr>\n",
       "      <th>3</th>\n",
       "      <td>0.911293</td>\n",
       "      <td>1.000000</td>\n",
       "      <td>Logistic</td>\n",
       "    </tr>\n",
       "    <tr>\n",
       "      <th>5</th>\n",
       "      <td>0.814548</td>\n",
       "      <td>0.972973</td>\n",
       "      <td>Logistic</td>\n",
       "    </tr>\n",
       "    <tr>\n",
       "      <th>4</th>\n",
       "      <td>0.817357</td>\n",
       "      <td>0.972222</td>\n",
       "      <td>Logistic</td>\n",
       "    </tr>\n",
       "    <tr>\n",
       "      <th>7</th>\n",
       "      <td>0.775500</td>\n",
       "      <td>0.952381</td>\n",
       "      <td>Logistic</td>\n",
       "    </tr>\n",
       "  </tbody>\n",
       "</table>\n",
       "</div>"
      ],
      "text/plain": [
       "   thresholds  precision     model\n",
       "2    0.914444   1.000000  Logistic\n",
       "3    0.911293   1.000000  Logistic\n",
       "5    0.814548   0.972973  Logistic\n",
       "4    0.817357   0.972222  Logistic\n",
       "7    0.775500   0.952381  Logistic"
      ]
     },
     "execution_count": 147,
     "metadata": {},
     "output_type": "execute_result"
    }
   ],
   "source": [
    "precision_df.sort_values(by='precision', ascending=False).head()"
   ]
  },
  {
   "cell_type": "code",
   "execution_count": 148,
   "metadata": {},
   "outputs": [
    {
     "data": {
      "text/html": [
       "<div>\n",
       "<style scoped>\n",
       "    .dataframe tbody tr th:only-of-type {\n",
       "        vertical-align: middle;\n",
       "    }\n",
       "\n",
       "    .dataframe tbody tr th {\n",
       "        vertical-align: top;\n",
       "    }\n",
       "\n",
       "    .dataframe thead th {\n",
       "        text-align: right;\n",
       "    }\n",
       "</style>\n",
       "<table border=\"1\" class=\"dataframe\">\n",
       "  <thead>\n",
       "    <tr style=\"text-align: right;\">\n",
       "      <th></th>\n",
       "      <th>thresholds</th>\n",
       "      <th>recall</th>\n",
       "      <th>model</th>\n",
       "    </tr>\n",
       "  </thead>\n",
       "  <tbody>\n",
       "    <tr>\n",
       "      <th>81</th>\n",
       "      <td>0.000651</td>\n",
       "      <td>1.000000</td>\n",
       "      <td>Logistic</td>\n",
       "    </tr>\n",
       "    <tr>\n",
       "      <th>79</th>\n",
       "      <td>0.042080</td>\n",
       "      <td>0.989474</td>\n",
       "      <td>Logistic</td>\n",
       "    </tr>\n",
       "    <tr>\n",
       "      <th>80</th>\n",
       "      <td>0.029153</td>\n",
       "      <td>0.989474</td>\n",
       "      <td>Logistic</td>\n",
       "    </tr>\n",
       "    <tr>\n",
       "      <th>77</th>\n",
       "      <td>0.045451</td>\n",
       "      <td>0.978947</td>\n",
       "      <td>Logistic</td>\n",
       "    </tr>\n",
       "    <tr>\n",
       "      <th>78</th>\n",
       "      <td>0.044370</td>\n",
       "      <td>0.978947</td>\n",
       "      <td>Logistic</td>\n",
       "    </tr>\n",
       "  </tbody>\n",
       "</table>\n",
       "</div>"
      ],
      "text/plain": [
       "    thresholds    recall     model\n",
       "81    0.000651  1.000000  Logistic\n",
       "79    0.042080  0.989474  Logistic\n",
       "80    0.029153  0.989474  Logistic\n",
       "77    0.045451  0.978947  Logistic\n",
       "78    0.044370  0.978947  Logistic"
      ]
     },
     "execution_count": 148,
     "metadata": {},
     "output_type": "execute_result"
    }
   ],
   "source": [
    "recall_df.sort_values(by='recall', ascending=False).head()"
   ]
  },
  {
   "cell_type": "code",
   "execution_count": 149,
   "metadata": {},
   "outputs": [
    {
     "data": {
      "text/html": [
       "<div>\n",
       "<style scoped>\n",
       "    .dataframe tbody tr th:only-of-type {\n",
       "        vertical-align: middle;\n",
       "    }\n",
       "\n",
       "    .dataframe tbody tr th {\n",
       "        vertical-align: top;\n",
       "    }\n",
       "\n",
       "    .dataframe thead th {\n",
       "        text-align: right;\n",
       "    }\n",
       "</style>\n",
       "<table border=\"1\" class=\"dataframe\">\n",
       "  <thead>\n",
       "    <tr style=\"text-align: right;\">\n",
       "      <th></th>\n",
       "      <th>thresholds</th>\n",
       "      <th>fbeta</th>\n",
       "      <th>model</th>\n",
       "    </tr>\n",
       "  </thead>\n",
       "  <tbody>\n",
       "    <tr>\n",
       "      <th>25</th>\n",
       "      <td>0.519639</td>\n",
       "      <td>0.795181</td>\n",
       "      <td>Logistic</td>\n",
       "    </tr>\n",
       "    <tr>\n",
       "      <th>26</th>\n",
       "      <td>0.473405</td>\n",
       "      <td>0.791962</td>\n",
       "      <td>Logistic</td>\n",
       "    </tr>\n",
       "    <tr>\n",
       "      <th>24</th>\n",
       "      <td>0.563637</td>\n",
       "      <td>0.789474</td>\n",
       "      <td>Logistic</td>\n",
       "    </tr>\n",
       "    <tr>\n",
       "      <th>28</th>\n",
       "      <td>0.450638</td>\n",
       "      <td>0.788863</td>\n",
       "      <td>Logistic</td>\n",
       "    </tr>\n",
       "    <tr>\n",
       "      <th>30</th>\n",
       "      <td>0.405299</td>\n",
       "      <td>0.785877</td>\n",
       "      <td>Logistic</td>\n",
       "    </tr>\n",
       "  </tbody>\n",
       "</table>\n",
       "</div>"
      ],
      "text/plain": [
       "    thresholds     fbeta     model\n",
       "25    0.519639  0.795181  Logistic\n",
       "26    0.473405  0.791962  Logistic\n",
       "24    0.563637  0.789474  Logistic\n",
       "28    0.450638  0.788863  Logistic\n",
       "30    0.405299  0.785877  Logistic"
      ]
     },
     "execution_count": 149,
     "metadata": {},
     "output_type": "execute_result"
    }
   ],
   "source": [
    "fbeta_df.sort_values(by='fbeta', ascending=False).head()"
   ]
  },
  {
   "cell_type": "markdown",
   "metadata": {},
   "source": [
    "## Podemos definir nosso `Threshold` ótimo como `0.349375` para a métrica `Accuracy`"
   ]
  },
  {
   "cell_type": "markdown",
   "metadata": {
    "id": "fqD8UXUPT1Ab"
   },
   "source": [
    "# 9. Escolher o melhor modelo dos passos anteriores\n",
    "\n",
    "Qual dos modelos avaliados anteriormente performou melhor? Todas as métricas desse modelo são melhores que as dos outros ou tem alguma que se destaca?"
   ]
  },
  {
   "cell_type": "markdown",
   "metadata": {},
   "source": [
    "O modelo que melhor performou foi o de `Regressão Logística`, tanto seus scores de treino quanto de teste obetiveram resultados semelhantes, o que não indica que o modelo decorou os dados.  \n",
    "  \n",
    "  A métrica que mais se destaca é a `AUC`"
   ]
  },
  {
   "cell_type": "code",
   "execution_count": 150,
   "metadata": {},
   "outputs": [
    {
     "name": "stdout",
     "output_type": "stream",
     "text": [
      "Acertos: 180\n",
      "Erros: 43\n",
      "Total: 223\n"
     ]
    }
   ],
   "source": [
    "#Exibir a matriz de confusão\n",
    "cm = confusion_matrix(y_test, log_reg.predict(x_test))\n",
    "\n",
    "print(f'Acertos: {cm[0,0] + cm[1,1]}')\n",
    "print(f'Erros: {cm[0,1] + cm[1,0]}')\n",
    "print(f'Total: {cm[0,0] + cm[0,1] + cm[1,0] + cm[1,1]}')"
   ]
  },
  {
   "cell_type": "markdown",
   "metadata": {
    "id": "pgyF4GLuUXAJ"
   },
   "source": [
    "# 10) Para o melhor modelo escolhido, repetir a modelagem usando k-fold\n",
    "\n",
    "Aqui vamos repetir o passo de modelagem apenas para o melhor modelo, agora usando k-fold (k a escolha de vcs). Nossas métricas melhoraram? Vocês sabem explicar pra que o k-fold é usado?\n"
   ]
  },
  {
   "cell_type": "code",
   "execution_count": 151,
   "metadata": {},
   "outputs": [],
   "source": [
    "folds = KFold(5)\n",
    "accuracy = []\n",
    "precision = []\n",
    "recall = []\n",
    "fbeta = []\n",
    "roc_auc = []\n",
    "for train_index, test_index in folds.split(X):\n",
    "#     print(\"TRAIN:\", train_index, \"TEST:\", test_index)\n",
    "    X_Train, X_Test = X.iloc[train_index], X.iloc[test_index]\n",
    "    Y_Train, Y_Test = Y.iloc[train_index].T, Y.iloc[test_index]\n",
    "    fit = LogisticRegression().fit(X_Train, Y_Train)\n",
    "    accuracy.append(accuracy_score(Y_Test, fit.predict(X_Test)))\n",
    "    precision.append(precision_score(Y_Test, fit.predict(X_Test)))\n",
    "    recall.append(recall_score(Y_Test, fit.predict(X_Test)))\n",
    "    fbeta.append(fbeta_score(Y_Test, fit.predict(X_Test), beta=0.5))\n",
    "    roc_auc.append(roc_auc_score(Y_Test, fit.predict_proba(X_Test)[:,1]))"
   ]
  },
  {
   "cell_type": "code",
   "execution_count": 152,
   "metadata": {},
   "outputs": [
    {
     "data": {
      "text/plain": [
       "0.8820224719101124"
      ]
     },
     "execution_count": 152,
     "metadata": {},
     "output_type": "execute_result"
    }
   ],
   "source": [
    "max(accuracy)"
   ]
  },
  {
   "cell_type": "code",
   "execution_count": 153,
   "metadata": {},
   "outputs": [
    {
     "data": {
      "text/plain": [
       "0.821917808219178"
      ]
     },
     "execution_count": 153,
     "metadata": {},
     "output_type": "execute_result"
    }
   ],
   "source": [
    "max(precision)"
   ]
  },
  {
   "cell_type": "code",
   "execution_count": 154,
   "metadata": {},
   "outputs": [
    {
     "data": {
      "text/plain": [
       "0.8571428571428571"
      ]
     },
     "execution_count": 154,
     "metadata": {},
     "output_type": "execute_result"
    }
   ],
   "source": [
    "max(recall)"
   ]
  },
  {
   "cell_type": "code",
   "execution_count": 155,
   "metadata": {},
   "outputs": [
    {
     "data": {
      "text/plain": [
       "0.8256880733944955"
      ]
     },
     "execution_count": 155,
     "metadata": {},
     "output_type": "execute_result"
    }
   ],
   "source": [
    "max(fbeta)"
   ]
  },
  {
   "cell_type": "code",
   "execution_count": 156,
   "metadata": {},
   "outputs": [
    {
     "data": {
      "text/plain": [
       "0.90904071773637"
      ]
     },
     "execution_count": 156,
     "metadata": {},
     "output_type": "execute_result"
    }
   ],
   "source": [
    "max(roc_auc)"
   ]
  },
  {
   "cell_type": "markdown",
   "metadata": {},
   "source": [
    "## Em comparação com as métricas obtidas na primeira modelagem, utilizando split de 0.25 para teste, nossas métricas melhoraram com o uso do K-Fold para 5 divisões dos dados"
   ]
  },
  {
   "cell_type": "markdown",
   "metadata": {
    "id": "QZOLnOoNVLdQ"
   },
   "source": [
    "# 11) Balanceamento de dados\n",
    "\n",
    "Seria interessante balancearmos os dados para esse caso? Por quê? As métricas melhoraram após o balanceamento? Testar somente para o melhor modelo avaliado e após o k-fold!"
   ]
  },
  {
   "cell_type": "code",
   "execution_count": 157,
   "metadata": {
    "id": "aqWovX7qqB8B"
   },
   "outputs": [
    {
     "data": {
      "text/plain": [
       "<AxesSubplot:>"
      ]
     },
     "execution_count": 157,
     "metadata": {},
     "output_type": "execute_result"
    },
    {
     "data": {
      "image/png": "[encoded data removed]",
      "text/plain": [
       "<Figure size 432x288 with 1 Axes>"
      ]
     },
     "metadata": {
      "needs_background": "light"
     },
     "output_type": "display_data"
    }
   ],
   "source": [
    "train['Survived'].value_counts().plot.bar()"
   ]
  },
  {
   "cell_type": "code",
   "execution_count": 158,
   "metadata": {},
   "outputs": [
    {
     "name": "stdout",
     "output_type": "stream",
     "text": [
      "              precision    recall  f1-score   support\n",
      "\n",
      "           0       0.80      0.88      0.84       128\n",
      "           1       0.82      0.71      0.76        95\n",
      "\n",
      "    accuracy                           0.81       223\n",
      "   macro avg       0.81      0.79      0.80       223\n",
      "weighted avg       0.81      0.81      0.80       223\n",
      "\n"
     ]
    }
   ],
   "source": [
    "print(classification_report(y_test, log_reg.predict(x_test)))"
   ]
  },
  {
   "cell_type": "code",
   "execution_count": 159,
   "metadata": {},
   "outputs": [],
   "source": [
    "nm = NearMiss()"
   ]
  },
  {
   "cell_type": "code",
   "execution_count": 163,
   "metadata": {},
   "outputs": [],
   "source": [
    "X, y = nm.fit_resample(X, Y)"
   ]
  },
  {
   "cell_type": "code",
   "execution_count": 168,
   "metadata": {},
   "outputs": [],
   "source": [
    "x_train, x_test, y_train, y_test = train_test_split(X, y, test_size=0.2)"
   ]
  },
  {
   "cell_type": "code",
   "execution_count": 169,
   "metadata": {},
   "outputs": [],
   "source": [
    "log_reg_balanced = LogisticRegression()"
   ]
  },
  {
   "cell_type": "code",
   "execution_count": 174,
   "metadata": {},
   "outputs": [
    {
     "data": {
      "text/plain": [
       "LogisticRegression()"
      ]
     },
     "execution_count": 174,
     "metadata": {},
     "output_type": "execute_result"
    }
   ],
   "source": [
    "log_reg_balanced.fit(x_train, y_train)"
   ]
  },
  {
   "cell_type": "code",
   "execution_count": 175,
   "metadata": {},
   "outputs": [
    {
     "name": "stdout",
     "output_type": "stream",
     "text": [
      "              precision    recall  f1-score   support\n",
      "\n",
      "           0       0.74      0.88      0.80        67\n",
      "           1       0.86      0.70      0.77        70\n",
      "\n",
      "    accuracy                           0.79       137\n",
      "   macro avg       0.80      0.79      0.79       137\n",
      "weighted avg       0.80      0.79      0.79       137\n",
      "\n"
     ]
    }
   ],
   "source": [
    "print(classification_report(y_test, log_reg.predict(x_test)))"
   ]
  },
  {
   "cell_type": "code",
   "execution_count": 176,
   "metadata": {},
   "outputs": [
    {
     "data": {
      "text/plain": [
       "0.8394160583941606"
      ]
     },
     "execution_count": 176,
     "metadata": {},
     "output_type": "execute_result"
    }
   ],
   "source": [
    "accuracy_score(y_test, log_reg_balanced.predict(x_test))"
   ]
  },
  {
   "cell_type": "markdown",
   "metadata": {},
   "source": [
    "## Nosso modelo não tem um ganho significativo após o balanceamento dos dados, na verdade, a métrica `Accuracy` tem uma pequena redução no seu valor, portanto, não é necessário fazer o balanceamento dos dados."
   ]
  }
 ],
 "metadata": {
  "colab": {
   "name": "base_DSTN03_Desafio_3_Titanic.ipynb",
   "provenance": []
  },
  "kernelspec": {
   "display_name": "Python 3",
   "language": "python",
   "name": "python3"
  },
  "language_info": {
   "codemirror_mode": {
    "name": "ipython",
    "version": 3
   },
   "file_extension": ".py",
   "mimetype": "text/x-python",
   "name": "python",
   "nbconvert_exporter": "python",
   "pygments_lexer": "ipython3",
   "version": "3.8.5"
  }
 },
 "nbformat": 4,
 "nbformat_minor": 1
}
